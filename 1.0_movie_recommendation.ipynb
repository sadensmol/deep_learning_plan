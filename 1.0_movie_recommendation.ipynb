{
 "metadata": {
  "language_info": {
   "codemirror_mode": {
    "name": "ipython",
    "version": 3
   },
   "file_extension": ".py",
   "mimetype": "text/x-python",
   "name": "python",
   "nbconvert_exporter": "python",
   "pygments_lexer": "ipython3",
   "version": "3.8.5-final"
  },
  "orig_nbformat": 2,
  "kernelspec": {
   "name": "python3",
   "display_name": "Python 3",
   "language": "python"
  }
 },
 "nbformat": 4,
 "nbformat_minor": 2,
 "cells": [
  {
   "source": [
    "# Movie recommendation system\n",
    "\n",
    "It uses **Content Based Filtering (CBF)**\n",
    "\n",
    "It's a properties based recommendation.  \n",
    "For example if some movie has a list of properties,  \n",
    "then similar movies will be ones, contain similar list of properties.\n",
    "\n",
    "\n",
    "To check the similarity we could use the simple *Cosine Similarity* algorithm.  \n",
    "When we calculate properties vector for every movie, and then just choose  \n",
    "movies with the highest values.\n",
    "\n",
    "\n"
   ],
   "cell_type": "markdown",
   "metadata": {}
  },
  {
   "cell_type": "code",
   "execution_count": 2,
   "metadata": {},
   "outputs": [],
   "source": [
    "\n",
    "import pandas as pd\n",
    "\n",
    "#initial output setup\n",
    "pd.set_option('display.max_rows', 50)\n",
    "pd.set_option('display.max_columns', 50)\n",
    "pd.set_option('display.width', 200)"
   ]
  },
  {
   "source": [
    "Next we are loading title.basics collection which has titles and genres for all movies.  \n",
    "We will use genres as the main properties to provide recommendation.  \n",
    "\n",
    "For example if some movie have the following genres \"Action,Drama,Fantasy\",  \n",
    "then the most similar movies will be ones which have same genres."
   ],
   "cell_type": "markdown",
   "metadata": {}
  },
  {
   "cell_type": "code",
   "execution_count": 3,
   "metadata": {
    "tags": []
   },
   "outputs": [
    {
     "output_type": "execute_result",
     "data": {
      "text/plain": [
       "      tconst titleType                                 primaryTitle                                originalTitle  isAdult startYear endYear runtimeMinutes                    genres\n",
       "0  tt0000001     short                                   Carmencita                                   Carmencita        0      1894      \\N              1         Documentary,Short\n",
       "1  tt0000002     short                       Le clown et ses chiens                       Le clown et ses chiens        0      1892      \\N              5           Animation,Short\n",
       "2  tt0000003     short                               Pauvre Pierrot                               Pauvre Pierrot        0      1892      \\N              4  Animation,Comedy,Romance\n",
       "3  tt0000004     short                                  Un bon bock                                  Un bon bock        0      1892      \\N             12           Animation,Short\n",
       "4  tt0000005     short                             Blacksmith Scene                             Blacksmith Scene        0      1893      \\N              1              Comedy,Short\n",
       "5  tt0000006     short                            Chinese Opium Den                            Chinese Opium Den        0      1894      \\N              1                     Short\n",
       "6  tt0000007     short  Corbett and Courtney Before the Kinetograph  Corbett and Courtney Before the Kinetograph        0      1894      \\N              1               Short,Sport\n",
       "7  tt0000008     short       Edison Kinetoscopic Record of a Sneeze       Edison Kinetoscopic Record of a Sneeze        0      1894      \\N              1         Documentary,Short\n",
       "8  tt0000009     movie                                   Miss Jerry                                   Miss Jerry        0      1894      \\N             45                   Romance\n",
       "9  tt0000010     short                          Leaving the Factory          La sortie de l'usine Lumière à Lyon        0      1895      \\N              1         Documentary,Short"
      ],
      "text/html": "<div>\n<style scoped>\n    .dataframe tbody tr th:only-of-type {\n        vertical-align: middle;\n    }\n\n    .dataframe tbody tr th {\n        vertical-align: top;\n    }\n\n    .dataframe thead th {\n        text-align: right;\n    }\n</style>\n<table border=\"1\" class=\"dataframe\">\n  <thead>\n    <tr style=\"text-align: right;\">\n      <th></th>\n      <th>tconst</th>\n      <th>titleType</th>\n      <th>primaryTitle</th>\n      <th>originalTitle</th>\n      <th>isAdult</th>\n      <th>startYear</th>\n      <th>endYear</th>\n      <th>runtimeMinutes</th>\n      <th>genres</th>\n    </tr>\n  </thead>\n  <tbody>\n    <tr>\n      <th>0</th>\n      <td>tt0000001</td>\n      <td>short</td>\n      <td>Carmencita</td>\n      <td>Carmencita</td>\n      <td>0</td>\n      <td>1894</td>\n      <td>\\N</td>\n      <td>1</td>\n      <td>Documentary,Short</td>\n    </tr>\n    <tr>\n      <th>1</th>\n      <td>tt0000002</td>\n      <td>short</td>\n      <td>Le clown et ses chiens</td>\n      <td>Le clown et ses chiens</td>\n      <td>0</td>\n      <td>1892</td>\n      <td>\\N</td>\n      <td>5</td>\n      <td>Animation,Short</td>\n    </tr>\n    <tr>\n      <th>2</th>\n      <td>tt0000003</td>\n      <td>short</td>\n      <td>Pauvre Pierrot</td>\n      <td>Pauvre Pierrot</td>\n      <td>0</td>\n      <td>1892</td>\n      <td>\\N</td>\n      <td>4</td>\n      <td>Animation,Comedy,Romance</td>\n    </tr>\n    <tr>\n      <th>3</th>\n      <td>tt0000004</td>\n      <td>short</td>\n      <td>Un bon bock</td>\n      <td>Un bon bock</td>\n      <td>0</td>\n      <td>1892</td>\n      <td>\\N</td>\n      <td>12</td>\n      <td>Animation,Short</td>\n    </tr>\n    <tr>\n      <th>4</th>\n      <td>tt0000005</td>\n      <td>short</td>\n      <td>Blacksmith Scene</td>\n      <td>Blacksmith Scene</td>\n      <td>0</td>\n      <td>1893</td>\n      <td>\\N</td>\n      <td>1</td>\n      <td>Comedy,Short</td>\n    </tr>\n    <tr>\n      <th>5</th>\n      <td>tt0000006</td>\n      <td>short</td>\n      <td>Chinese Opium Den</td>\n      <td>Chinese Opium Den</td>\n      <td>0</td>\n      <td>1894</td>\n      <td>\\N</td>\n      <td>1</td>\n      <td>Short</td>\n    </tr>\n    <tr>\n      <th>6</th>\n      <td>tt0000007</td>\n      <td>short</td>\n      <td>Corbett and Courtney Before the Kinetograph</td>\n      <td>Corbett and Courtney Before the Kinetograph</td>\n      <td>0</td>\n      <td>1894</td>\n      <td>\\N</td>\n      <td>1</td>\n      <td>Short,Sport</td>\n    </tr>\n    <tr>\n      <th>7</th>\n      <td>tt0000008</td>\n      <td>short</td>\n      <td>Edison Kinetoscopic Record of a Sneeze</td>\n      <td>Edison Kinetoscopic Record of a Sneeze</td>\n      <td>0</td>\n      <td>1894</td>\n      <td>\\N</td>\n      <td>1</td>\n      <td>Documentary,Short</td>\n    </tr>\n    <tr>\n      <th>8</th>\n      <td>tt0000009</td>\n      <td>movie</td>\n      <td>Miss Jerry</td>\n      <td>Miss Jerry</td>\n      <td>0</td>\n      <td>1894</td>\n      <td>\\N</td>\n      <td>45</td>\n      <td>Romance</td>\n    </tr>\n    <tr>\n      <th>9</th>\n      <td>tt0000010</td>\n      <td>short</td>\n      <td>Leaving the Factory</td>\n      <td>La sortie de l'usine Lumière à Lyon</td>\n      <td>0</td>\n      <td>1895</td>\n      <td>\\N</td>\n      <td>1</td>\n      <td>Documentary,Short</td>\n    </tr>\n  </tbody>\n</table>\n</div>"
     },
     "metadata": {},
     "execution_count": 3
    }
   ],
   "source": [
    "\n",
    "import numpy as np \n",
    "\n",
    "movies=pd.read_csv(\"data/title.basics.tsv\",sep=\"\\t\")\n",
    "\n",
    "# replace all NaN values in using columns (title and genres)\n",
    "movies[\"primaryTitle\"] = movies[\"primaryTitle\"].replace(np.nan,\"\")\n",
    "movies[\"genres\"] = movies[\"genres\"].replace(np.nan, value=\"\")\n",
    "\n",
    "# list first 10 movies\n",
    "movies.head(10)\n"
   ]
  },
  {
   "source": [
    "Now we start processing movies with Tf-idf algorithm.  \n",
    "As a result we have 0..1 values for every movie's genre.\n"
   ],
   "cell_type": "markdown",
   "metadata": {}
  },
  {
   "cell_type": "code",
   "execution_count": 4,
   "metadata": {},
   "outputs": [
    {
     "output_type": "stream",
     "name": "stdout",
     "text": [
      "           action  adult  adventure  animation  biography    comedy  crime  documentary     drama    family  fantasy   fi  film  game  history  horror  music  musical  mystery  news  noir  reality  \\\n0        0.000000    0.0        0.0   0.000000        0.0  0.000000    0.0     0.741105  0.000000  0.000000      0.0  0.0   0.0   0.0      0.0     0.0    0.0      0.0      0.0   0.0   0.0      0.0   \n1        0.000000    0.0        0.0   0.796339        0.0  0.000000    0.0     0.000000  0.000000  0.000000      0.0  0.0   0.0   0.0      0.0     0.0    0.0      0.0      0.0   0.0   0.0      0.0   \n2        0.000000    0.0        0.0   0.685141        0.0  0.440164    0.0     0.000000  0.000000  0.000000      0.0  0.0   0.0   0.0      0.0     0.0    0.0      0.0      0.0   0.0   0.0      0.0   \n3        0.000000    0.0        0.0   0.796339        0.0  0.000000    0.0     0.000000  0.000000  0.000000      0.0  0.0   0.0   0.0      0.0     0.0    0.0      0.0      0.0   0.0   0.0      0.0   \n4        0.000000    0.0        0.0   0.000000        0.0  0.645799    0.0     0.000000  0.000000  0.000000      0.0  0.0   0.0   0.0      0.0     0.0    0.0      0.0      0.0   0.0   0.0      0.0   \n...           ...    ...        ...        ...        ...       ...    ...          ...       ...       ...      ...  ...   ...   ...      ...     ...    ...      ...      ...   ...   ...      ...   \n7434595  0.695751    0.0        0.0   0.000000        0.0  0.000000    0.0     0.000000  0.381069  0.608865      0.0  0.0   0.0   0.0      0.0     0.0    0.0      0.0      0.0   0.0   0.0      0.0   \n7434596  0.695751    0.0        0.0   0.000000        0.0  0.000000    0.0     0.000000  0.381069  0.608865      0.0  0.0   0.0   0.0      0.0     0.0    0.0      0.0      0.0   0.0   0.0      0.0   \n7434597  0.695751    0.0        0.0   0.000000        0.0  0.000000    0.0     0.000000  0.381069  0.608865      0.0  0.0   0.0   0.0      0.0     0.0    0.0      0.0      0.0   0.0   0.0      0.0   \n7434598  0.000000    0.0        0.0   0.000000        0.0  0.000000    0.0     0.000000  0.000000  0.000000      0.0  0.0   0.0   0.0      0.0     0.0    0.0      0.0      0.0   0.0   0.0      0.0   \n7434599  0.000000    0.0        0.0   0.667107        0.0  0.428578    0.0     0.000000  0.000000  0.609335      0.0  0.0   0.0   0.0      0.0     0.0    0.0      0.0      0.0   0.0   0.0      0.0   \n\n          romance  sci     short  show  sport  talk  thriller   tv  war  western  \n0        0.000000  0.0  0.671389   0.0    0.0   0.0       0.0  0.0  0.0      0.0  \n1        0.000000  0.0  0.604851   0.0    0.0   0.0       0.0  0.0  0.0      0.0  \n2        0.580377  0.0  0.000000   0.0    0.0   0.0       0.0  0.0  0.0      0.0  \n3        0.000000  0.0  0.604851   0.0    0.0   0.0       0.0  0.0  0.0      0.0  \n4        0.000000  0.0  0.763507   0.0    0.0   0.0       0.0  0.0  0.0      0.0  \n...           ...  ...       ...   ...    ...   ...       ...  ...  ...      ...  \n7434595  0.000000  0.0  0.000000   0.0    0.0   0.0       0.0  0.0  0.0      0.0  \n7434596  0.000000  0.0  0.000000   0.0    0.0   0.0       0.0  0.0  0.0      0.0  \n7434597  0.000000  0.0  0.000000   0.0    0.0   0.0       0.0  0.0  0.0      0.0  \n7434598  0.000000  0.0  1.000000   0.0    0.0   0.0       0.0  0.0  0.0      0.0  \n7434599  0.000000  0.0  0.000000   0.0    0.0   0.0       0.0  0.0  0.0      0.0  \n\n[7434600 rows x 32 columns]\n"
     ]
    }
   ],
   "source": [
    "from sklearn.feature_extraction.text import TfidfVectorizer\n",
    "from sklearn.metrics.pairwise import linear_kernel\n",
    "\n",
    "tfidf_movies_genres = TfidfVectorizer()\n",
    "tfidf_movies_genres_matrix = tfidf_movies_genres.fit_transform(movies[\"genres\"])\n",
    "\n",
    "# list the result matrix\n",
    "print(pd.DataFrame(data = tfidf_movies_genres_matrix.toarray(),columns = tfidf_movies_genres.get_feature_names()))"
   ]
  },
  {
   "source": [
    "Now we create a method to be used for our recommendation system.  \n",
    "According to the sklearn documentation we are using linear_kernel here  \n",
    "instead of cosine_similarity function."
   ],
   "cell_type": "markdown",
   "metadata": {}
  },
  {
   "cell_type": "code",
   "execution_count": 5,
   "metadata": {
    "tags": []
   },
   "outputs": [],
   "source": [
    "def get_recommendation_based_on_genre(movie_title):\n",
    "    idx_movie = movies.loc[movies[\"primaryTitle\"].isin([movie_title])]\n",
    "    idx_movie = idx_movie.index \n",
    "\n",
    "\n",
    "\n",
    "    # here we use just a single movie to create cosine_similarity vector\n",
    "    # otherwise on big datasets we could easily go out of the memory\n",
    "    cosimsim = linear_kernel(tfidf_movies_genres_matrix[idx_movie],tfidf_movies_genres_matrix)\n",
    "    \n",
    "    # get similarity vectors for all movies and sort it in backward\n",
    "    sim_scores_for_specific_movie = list(enumerate(cosimsim[0]))\n",
    "    sim_scores_for_specific_movie_sorted = sorted(sim_scores_for_specific_movie, key=lambda x: x[1], reverse=True)\n",
    "\n",
    "    # now choose 10 top items for the recommendation\n",
    "    sim_scores_for_specific_movie_sorted = sim_scores_for_specific_movie_sorted[1:11]\n",
    "    \n",
    "    # # Get the movie indices, and provide the list of movies\n",
    "    movie_indices = [i[0] for i in sim_scores_for_specific_movie_sorted]\n",
    "    return movies.iloc[movie_indices]\n",
    "\n",
    "\n"
   ]
  },
  {
   "cell_type": "code",
   "execution_count": 6,
   "metadata": {},
   "outputs": [
    {
     "output_type": "stream",
     "name": "stdout",
     "text": [
      "17107                    The Sea Beast\n32731     Adventures of Captain Marvel\n32974                     Le due tigri\n38526                    Blonde Savage\n40393    The Adventures of Sir Galahad\n40446                           Bagdad\n41226          Tarzan's Magic Fountain\n43017                 The Magic Carpet\n44387                  Son of Ali Baba\n46944                        Abe Hayat\nName: primaryTitle, dtype: object\n"
     ]
    }
   ],
   "source": [
    "recg = get_recommendation_based_on_genre(\"Star Wars: Episode I - The Phantom Menace\")\n",
    "print(recg[\"primaryTitle\"])"
   ]
  }
 ]
}